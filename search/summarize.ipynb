{
 "cells": [
  {
   "cell_type": "markdown",
   "metadata": {},
   "source": [
    "Setup libraries"
   ]
  },
  {
   "cell_type": "code",
   "execution_count": 18,
   "metadata": {},
   "outputs": [
    {
     "name": "stderr",
     "output_type": "stream",
     "text": [
      "[nltk_data] Downloading package punkt to /home/jlam/nltk_data...\n",
      "[nltk_data]   Unzipping tokenizers/punkt.zip.\n"
     ]
    },
    {
     "data": {
      "text/plain": [
       "True"
      ]
     },
     "execution_count": 18,
     "metadata": {},
     "output_type": "execute_result"
    }
   ],
   "source": [
    "import nltk\n",
    "nltk.download('punkt')  "
   ]
  },
  {
   "cell_type": "code",
   "execution_count": 1,
   "metadata": {},
   "outputs": [
    {
     "name": "stdout",
     "output_type": "stream",
     "text": [
      "<sqlite3.Cursor object at 0x7ff7a3075b20>\n"
     ]
    }
   ],
   "source": [
    "import sqlite3\n",
    "\n",
    "conn = sqlite3.connect(\"../server/myelin.db\")\n",
    "cur = conn.cursor()\n",
    "result = cur.execute(\"select * from resources\")\n",
    "print(result)"
   ]
  },
  {
   "cell_type": "code",
   "execution_count": 4,
   "metadata": {},
   "outputs": [
    {
     "name": "stdout",
     "output_type": "stream",
     "text": [
      "                                                 uri  \\\n",
      "0  https://medium.learningbyshipping.com/bicycle-...   \n",
      "\n",
      "                                           title  \\\n",
      "0  “Bicycle for the Mind” - Learning By Shipping   \n",
      "\n",
      "                                                text  \\\n",
      "0  “When we invented the personal computer, we cr...   \n",
      "\n",
      "                                              markup markup_type  \n",
      "0  <div id=\"readability-page-1\" class=\"page\"><div...        html  \n"
     ]
    }
   ],
   "source": [
    "import pandas as pd\n",
    "import sqlite3\n",
    "\n",
    "conn = sqlite3.connect(\"../server/myelin.db\")\n",
    "df = pd.read_sql(\"select * from resources\", conn)\n",
    "print(df)"
   ]
  },
  {
   "cell_type": "code",
   "execution_count": 1,
   "metadata": {},
   "outputs": [],
   "source": [
    "import nltk\n",
    "from sentence_transformers import SentenceTransformer, util\n",
    "import numpy as np\n",
    "from lexrank import LexRank, degree_centrality_scores"
   ]
  },
  {
   "cell_type": "code",
   "execution_count": 2,
   "metadata": {},
   "outputs": [
    {
     "data": {
      "application/vnd.jupyter.widget-view+json": {
       "model_id": "343f42e8788b4808a15d61eaa0a4ac6a",
       "version_major": 2,
       "version_minor": 0
      },
      "text/plain": [
       "Downloading:   0%|          | 0.00/1.18k [00:00<?, ?B/s]"
      ]
     },
     "metadata": {},
     "output_type": "display_data"
    },
    {
     "data": {
      "application/vnd.jupyter.widget-view+json": {
       "model_id": "224479b240014490991361fc756122bb",
       "version_major": 2,
       "version_minor": 0
      },
      "text/plain": [
       "Downloading:   0%|          | 0.00/10.2k [00:00<?, ?B/s]"
      ]
     },
     "metadata": {},
     "output_type": "display_data"
    },
    {
     "data": {
      "application/vnd.jupyter.widget-view+json": {
       "model_id": "08c992089b7a44c78d03919a7a8f2f41",
       "version_major": 2,
       "version_minor": 0
      },
      "text/plain": [
       "Downloading:   0%|          | 0.00/612 [00:00<?, ?B/s]"
      ]
     },
     "metadata": {},
     "output_type": "display_data"
    },
    {
     "data": {
      "application/vnd.jupyter.widget-view+json": {
       "model_id": "b3f72a128e54445990f52d8b95f65fab",
       "version_major": 2,
       "version_minor": 0
      },
      "text/plain": [
       "Downloading:   0%|          | 0.00/116 [00:00<?, ?B/s]"
      ]
     },
     "metadata": {},
     "output_type": "display_data"
    },
    {
     "data": {
      "application/vnd.jupyter.widget-view+json": {
       "model_id": "fdfb900c943349caa88b28276f9ddf96",
       "version_major": 2,
       "version_minor": 0
      },
      "text/plain": [
       "Downloading:   0%|          | 0.00/39.3k [00:00<?, ?B/s]"
      ]
     },
     "metadata": {},
     "output_type": "display_data"
    },
    {
     "data": {
      "application/vnd.jupyter.widget-view+json": {
       "model_id": "d378ecf72b834299b977377444e534d0",
       "version_major": 2,
       "version_minor": 0
      },
      "text/plain": [
       "Downloading:   0%|          | 0.00/349 [00:00<?, ?B/s]"
      ]
     },
     "metadata": {},
     "output_type": "display_data"
    },
    {
     "data": {
      "application/vnd.jupyter.widget-view+json": {
       "model_id": "532dce11d3724771a94cf6722f5d5925",
       "version_major": 2,
       "version_minor": 0
      },
      "text/plain": [
       "Downloading:   0%|          | 0.00/90.9M [00:00<?, ?B/s]"
      ]
     },
     "metadata": {},
     "output_type": "display_data"
    },
    {
     "data": {
      "application/vnd.jupyter.widget-view+json": {
       "model_id": "2f9393033d194972abb2b0444741bdda",
       "version_major": 2,
       "version_minor": 0
      },
      "text/plain": [
       "Downloading:   0%|          | 0.00/53.0 [00:00<?, ?B/s]"
      ]
     },
     "metadata": {},
     "output_type": "display_data"
    },
    {
     "data": {
      "application/vnd.jupyter.widget-view+json": {
       "model_id": "81e3627be747430da399500a2141a350",
       "version_major": 2,
       "version_minor": 0
      },
      "text/plain": [
       "Downloading:   0%|          | 0.00/112 [00:00<?, ?B/s]"
      ]
     },
     "metadata": {},
     "output_type": "display_data"
    },
    {
     "data": {
      "application/vnd.jupyter.widget-view+json": {
       "model_id": "8ddcf30539af49479aba3906082f065a",
       "version_major": 2,
       "version_minor": 0
      },
      "text/plain": [
       "Downloading:   0%|          | 0.00/466k [00:00<?, ?B/s]"
      ]
     },
     "metadata": {},
     "output_type": "display_data"
    },
    {
     "data": {
      "application/vnd.jupyter.widget-view+json": {
       "model_id": "edd57c6a99c8427b904ca2c14f9d8037",
       "version_major": 2,
       "version_minor": 0
      },
      "text/plain": [
       "Downloading:   0%|          | 0.00/350 [00:00<?, ?B/s]"
      ]
     },
     "metadata": {},
     "output_type": "display_data"
    },
    {
     "data": {
      "application/vnd.jupyter.widget-view+json": {
       "model_id": "539b8879a98943af9e5d35f0e83f9ae6",
       "version_major": 2,
       "version_minor": 0
      },
      "text/plain": [
       "Downloading:   0%|          | 0.00/13.2k [00:00<?, ?B/s]"
      ]
     },
     "metadata": {},
     "output_type": "display_data"
    },
    {
     "data": {
      "application/vnd.jupyter.widget-view+json": {
       "model_id": "e29d411e21f1492db8035950e653afad",
       "version_major": 2,
       "version_minor": 0
      },
      "text/plain": [
       "Downloading:   0%|          | 0.00/232k [00:00<?, ?B/s]"
      ]
     },
     "metadata": {},
     "output_type": "display_data"
    },
    {
     "data": {
      "application/vnd.jupyter.widget-view+json": {
       "model_id": "bb2a1cfd84684077aae0ad757736ec00",
       "version_major": 2,
       "version_minor": 0
      },
      "text/plain": [
       "Downloading:   0%|          | 0.00/190 [00:00<?, ?B/s]"
      ]
     },
     "metadata": {},
     "output_type": "display_data"
    }
   ],
   "source": [
    "model = SentenceTransformer('all-MiniLM-L6-v2')"
   ]
  },
  {
   "cell_type": "code",
   "execution_count": 13,
   "metadata": {},
   "outputs": [],
   "source": [
    "import sqlite3\n",
    "conn = sqlite3.connect(\"../server/myelin.db\")\n",
    "cur = conn.cursor()\n",
    "res = cur.execute(\"SELECT text FROM resources\")\n",
    "doc = None\n",
    "for row in res:\n",
    "    doc = row[0]"
   ]
  },
  {
   "cell_type": "code",
   "execution_count": 19,
   "metadata": {},
   "outputs": [
    {
     "name": "stdout",
     "output_type": "stream",
     "text": [
      "characters in doc: 15901\n",
      "sentences in doc: 111\n"
     ]
    }
   ],
   "source": [
    "print(f\"characters in doc: {len(doc)}\")\n",
    "sentences = nltk.sent_tokenize(doc)\n",
    "print(f\"sentences in doc: {len(sentences)}\")\n"
   ]
  },
  {
   "cell_type": "code",
   "execution_count": 25,
   "metadata": {},
   "outputs": [
    {
     "name": "stdout",
     "output_type": "stream",
     "text": [
      "Dimensions of the embeddings array: torch.Size([111, 384])\n"
     ]
    }
   ],
   "source": [
    "embeddings = model.encode(sentences, convert_to_tensor=True)\n",
    "print(f\"Dimensions of the embeddings array: {embeddings.size()}\")"
   ]
  },
  {
   "cell_type": "markdown",
   "metadata": {},
   "source": [
    "## Core algorithm\n",
    "\n",
    "Compute the pair-wise cosine similarity scores and rank them"
   ]
  },
  {
   "cell_type": "code",
   "execution_count": 27,
   "metadata": {},
   "outputs": [
    {
     "name": "stdout",
     "output_type": "stream",
     "text": [
      "“When we invented the personal computer, we created a new kind of bicycle…a new man-machine partnership…a new generation of entrepreneurs.” Steve Jobs said this and a lot more in 1980 as explored in this annotated twitter thread.1/ “When we invented the personal computer, we created a new kind of bicycle…a new man-machine partnership…a new generation of entrepreneurs.” — Steve Jobs, c. 1980Such a remarkable quote and articulation.\n",
      "!The “personal computer” world was diverse, with a dozen or so companies making thousands of units and maybe a hundred other companies trying stuff out.\n",
      "Scan from youtube.19/ “Computers are such a part of life that many people believe computers don’t invade their privacy…life, liberty, and pursuit of happiness is inevitably linked to a computer.”How’s that for east coast optimism?20/ Ken Kashiwahara then reports “Computers are being welcomed in schools, work, and homes without any mention of invasion of privacy” and discusses all the popular home uses.Jobs adds “This is a 21s century bicycle.” and impact on society will be bigger than petrochemicals.Ken Kashiwahara is reporting legend.\n",
      "It reflects great concerns that were expressed in many books about the growing risk of government databases and invasion into personal lives.Rise of the Computer State, by David BurnhamI came across this advertisement from IBM that ran at this time as well, discussing the commitment IBM had to privacy.\n",
      "Some history and innovation, rockets, privacy, ease of use, h/w <> s/wApple Computer bicycle of the mind poster created for anniversary campaign.\n"
     ]
    }
   ],
   "source": [
    "cos_scores = util.cos_sim(embeddings, embeddings).cpu().numpy()\n",
    "centrality_scores = degree_centrality_scores(cos_scores, threshold=None)\n",
    "most_central_sentence_indices = np.argsort(-centrality_scores)\n",
    "for idx in most_central_sentence_indices[0:5]:\n",
    "    print(sentences[idx].strip())"
   ]
  }
 ],
 "metadata": {
  "interpreter": {
   "hash": "e7e19cc75063e8705b098a2770f8befea8a3406f4f1c6ee47560c8c2408ff7a7"
  },
  "kernelspec": {
   "display_name": "Python 3.9.7 64-bit ('jupyter': conda)",
   "language": "python",
   "name": "python3"
  },
  "language_info": {
   "codemirror_mode": {
    "name": "ipython",
    "version": 3
   },
   "file_extension": ".py",
   "mimetype": "text/x-python",
   "name": "python",
   "nbconvert_exporter": "python",
   "pygments_lexer": "ipython3",
   "version": "3.9.7"
  },
  "orig_nbformat": 4
 },
 "nbformat": 4,
 "nbformat_minor": 2
}
