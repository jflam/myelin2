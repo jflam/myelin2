{
 "cells": [
  {
   "cell_type": "code",
   "execution_count": 1,
   "metadata": {},
   "outputs": [
    {
     "name": "stdout",
     "output_type": "stream",
     "text": [
      "<sqlite3.Cursor object at 0x7ff7a3075b20>\n"
     ]
    }
   ],
   "source": [
    "import sqlite3\n",
    "\n",
    "conn = sqlite3.connect(\"../server/myelin.db\")\n",
    "cur = conn.cursor()\n",
    "result = cur.execute(\"select * from resources\")\n",
    "print(result)"
   ]
  },
  {
   "cell_type": "code",
   "execution_count": 2,
   "metadata": {},
   "outputs": [
    {
     "name": "stdout",
     "output_type": "stream",
     "text": [
      "                                                 uri  \\\n",
      "0  https://medium.learningbyshipping.com/bicycle-...   \n",
      "\n",
      "                                           title  \\\n",
      "0  “Bicycle for the Mind” - Learning By Shipping   \n",
      "\n",
      "                                                text  \\\n",
      "0  “When we invented the personal computer, we cr...   \n",
      "\n",
      "                                              markup markup_type  \n",
      "0  <div id=\"readability-page-1\" class=\"page\"><div...        html  \n"
     ]
    }
   ],
   "source": [
    "import pandas as pd\n",
    "\n",
    "conn = sqlite3.connect(\"../server/myelin.db\")\n",
    "df = pd.read_sql(\"select * from resources\", conn)\n",
    "print(df)"
   ]
  },
  {
   "cell_type": "code",
   "execution_count": null,
   "metadata": {},
   "outputs": [],
   "source": [
    "from sentence_transformers import SentenceTransformer"
   ]
  }
 ],
 "metadata": {
  "interpreter": {
   "hash": "e7e19cc75063e8705b098a2770f8befea8a3406f4f1c6ee47560c8c2408ff7a7"
  },
  "kernelspec": {
   "display_name": "Python 3.9.7 64-bit ('jupyter': conda)",
   "language": "python",
   "name": "python3"
  },
  "language_info": {
   "codemirror_mode": {
    "name": "ipython",
    "version": 3
   },
   "file_extension": ".py",
   "mimetype": "text/x-python",
   "name": "python",
   "nbconvert_exporter": "python",
   "pygments_lexer": "ipython3",
   "version": "3.9.7"
  },
  "orig_nbformat": 4
 },
 "nbformat": 4,
 "nbformat_minor": 2
}
