{
 "cells": [
  {
   "cell_type": "markdown",
   "metadata": {},
   "source": [
    "# Experiments in using embeddinghub to index embeddings\n",
    "\n",
    "tl;dr nmslib does not currently support [incremental\n",
    "updates](https://github.com/nmslib/nmslib/issues/73) which makes it difficult\n",
    "to use for my scenarios. So I'm now investigating\n",
    "[embeddinghub](https://github.com/featureform/embeddinghub) instead"
   ]
  },
  {
   "cell_type": "code",
   "execution_count": 1,
   "metadata": {},
   "outputs": [
    {
     "name": "stderr",
     "output_type": "stream",
     "text": [
      "Your CPU supports instructions that this binary was not compiled to use: SSE3 SSE4.1 SSE4.2 AVX AVX2\n",
      "For maximum performance, you can install NMSLIB from sources \n",
      "pip install --no-binary :all: nmslib\n"
     ]
    }
   ],
   "source": [
    "import nmslib\n",
    "import embeddinghub as eh\n",
    "\n",
    "from sentence_transformers import SentenceTransformer, util"
   ]
  },
  {
   "cell_type": "code",
   "execution_count": 7,
   "metadata": {},
   "outputs": [],
   "source": [
    "model = SentenceTransformer('all-MiniLM-L6-v2')\n",
    "corpus = ['A man is eating food.',\n",
    "          'A man is eating a piece of bread.',\n",
    "          'The girl is carrying a baby.',\n",
    "          'A man is riding a horse.',\n",
    "          'A woman is playing violin.',\n",
    "          'Two men pushed carts through the woods.',\n",
    "          'A man is riding a white horse on an enclosed ground.',\n",
    "          'A monkey is playing drums.',\n",
    "          'A cheetah is running behind its prey.'\n",
    "          ]\n",
    "embeddings = model.encode(corpus, convert_to_tensor=True).cpu()"
   ]
  },
  {
   "cell_type": "markdown",
   "metadata": {},
   "source": [
    "## Add embeddings to nms index"
   ]
  },
  {
   "cell_type": "code",
   "execution_count": 21,
   "metadata": {},
   "outputs": [],
   "source": [
    "index = nmslib.init(method=\"hnsw\", space=\"cosinesimil\")\n",
    "index.addDataPointBatch(embeddings.cpu())\n",
    "# What does \"post\": 2 mean here?\n",
    "index.createIndex({\"post\": 2})\n",
    "index.saveIndex(\"./index.bin\", save_data=True)"
   ]
  },
  {
   "cell_type": "markdown",
   "metadata": {},
   "source": [
    "### Add embeddings to embeddinghub local instance"
   ]
  },
  {
   "cell_type": "code",
   "execution_count": 13,
   "metadata": {},
   "outputs": [
    {
     "name": "stdout",
     "output_type": "stream",
     "text": [
      "SAVE NOT IMPLEMENTED YET\n"
     ]
    }
   ],
   "source": [
    "hub = eh.connect(eh.LocalConfig(\"./data/\"))\n",
    "space = hub.create_space(\"kb\", 384)\n",
    "for i, doc in enumerate(corpus):\n",
    "    space.set(doc, embeddings[i].tolist())\n",
    "hub.save()"
   ]
  },
  {
   "cell_type": "markdown",
   "metadata": {},
   "source": [
    "### Query embedding hub"
   ]
  },
  {
   "cell_type": "code",
   "execution_count": 17,
   "metadata": {},
   "outputs": [
    {
     "name": "stdout",
     "output_type": "stream",
     "text": [
      "QUERY: A man is eating pasta.\n",
      "A man is eating food. (Score: unknown for now)\n",
      "A man is eating a piece of bread. (Score: unknown for now)\n",
      "A man is riding a horse. (Score: unknown for now)\n",
      "A man is riding a white horse on an enclosed ground. (Score: unknown for now)\n",
      "A cheetah is running behind its prey. (Score: unknown for now)\n",
      "QUERY: Someone in a gorilla costume is playing a set of drums.\n",
      "A monkey is playing drums. (Score: unknown for now)\n",
      "A woman is playing violin. (Score: unknown for now)\n",
      "A man is riding a horse. (Score: unknown for now)\n",
      "A man is riding a white horse on an enclosed ground. (Score: unknown for now)\n",
      "A cheetah is running behind its prey. (Score: unknown for now)\n",
      "QUERY: A cheetah chases prey on across a field.\n",
      "A cheetah is running behind its prey. (Score: unknown for now)\n",
      "A man is eating food. (Score: unknown for now)\n",
      "A monkey is playing drums. (Score: unknown for now)\n",
      "A man is riding a white horse on an enclosed ground. (Score: unknown for now)\n",
      "A man is riding a horse. (Score: unknown for now)\n"
     ]
    }
   ],
   "source": [
    "queries = ['A man is eating pasta.', \n",
    "    'Someone in a gorilla costume is playing a set of drums.', \n",
    "    'A cheetah chases prey on across a field.']\n",
    "\n",
    "for query in queries:\n",
    "    query_embedding = model.encode(query, convert_to_tensor=True).cpu()\n",
    "    results = space.nearest_neighbors(5, vector=query_embedding.tolist())\n",
    "    print(f\"QUERY: {query}\")\n",
    "    for idx in results:\n",
    "        print(corpus[idx], f\"(Score: unknown for now)\")"
   ]
  },
  {
   "cell_type": "code",
   "execution_count": 20,
   "metadata": {},
   "outputs": [],
   "source": [
    "new_corpus_entries = [\n",
    "    \"A man is eating spaghetti\",\n",
    "    \"A monkey is playing timpani\"\n",
    "]\n",
    "corpus += new_corpus_entries\n",
    "incremental_embeddings = model.encode(new_corpus_entries, convert_to_tensor=True)\n",
    "for i, doc in enumerate(new_corpus_entries):\n",
    "    space.set(doc, incremental_embeddings[i].tolist())\n"
   ]
  },
  {
   "cell_type": "code",
   "execution_count": 21,
   "metadata": {},
   "outputs": [
    {
     "name": "stdout",
     "output_type": "stream",
     "text": [
      "QUERY: A man is eating pasta.\n",
      "A man is eating spaghetti (Score: unknown for now)\n",
      "A man is eating food. (Score: unknown for now)\n",
      "A man is eating a piece of bread. (Score: unknown for now)\n",
      "A man is riding a horse. (Score: unknown for now)\n",
      "A monkey is playing timpani (Score: unknown for now)\n",
      "QUERY: Someone in a gorilla costume is playing a set of drums.\n",
      "A monkey is playing drums. (Score: unknown for now)\n",
      "A monkey is playing timpani (Score: unknown for now)\n",
      "A woman is playing violin. (Score: unknown for now)\n",
      "A man is riding a horse. (Score: unknown for now)\n",
      "A man is riding a white horse on an enclosed ground. (Score: unknown for now)\n",
      "QUERY: A cheetah chases prey on across a field.\n",
      "A cheetah is running behind its prey. (Score: unknown for now)\n",
      "A monkey is playing timpani (Score: unknown for now)\n",
      "A man is eating food. (Score: unknown for now)\n",
      "A monkey is playing drums. (Score: unknown for now)\n",
      "A man is riding a white horse on an enclosed ground. (Score: unknown for now)\n"
     ]
    }
   ],
   "source": [
    "# Query against new entries\n",
    "queries = ['A man is eating pasta.', \n",
    "    'Someone in a gorilla costume is playing a set of drums.', \n",
    "    'A cheetah chases prey on across a field.']\n",
    "\n",
    "for query in queries:\n",
    "    query_embedding = model.encode(query, convert_to_tensor=True).cpu()\n",
    "    results = space.nearest_neighbors(5, vector=query_embedding.tolist())\n",
    "    print(f\"QUERY: {query}\")\n",
    "    for idx in results:\n",
    "        print(corpus[idx], f\"(Score: unknown for now)\")"
   ]
  },
  {
   "cell_type": "markdown",
   "metadata": {},
   "source": [
    "## Load index from disk and work with it"
   ]
  },
  {
   "cell_type": "code",
   "execution_count": 22,
   "metadata": {},
   "outputs": [],
   "source": [
    "index = nmslib.init(method=\"hnsw\", space=\"cosinesimil\")\n",
    "index.loadIndex(\"./index.bin\")"
   ]
  },
  {
   "cell_type": "code",
   "execution_count": 23,
   "metadata": {},
   "outputs": [
    {
     "name": "stdout",
     "output_type": "stream",
     "text": [
      "QUERY: A man is eating pasta.\n",
      "A man is eating food. (Score: 0.7035)\n",
      "A man is eating a piece of bread. (Score: 0.5272)\n",
      "A man is riding a horse. (Score: 0.1889)\n",
      "A man is riding a white horse on an enclosed ground. (Score: 0.1047)\n",
      "A cheetah is running behind its prey. (Score: 0.0980)\n",
      "QUERY: Someone in a gorilla costume is playing a set of drums.\n",
      "A monkey is playing drums. (Score: 0.6433)\n",
      "A woman is playing violin. (Score: 0.2564)\n",
      "A man is riding a horse. (Score: 0.1389)\n",
      "A man is riding a white horse on an enclosed ground. (Score: 0.1191)\n",
      "A cheetah is running behind its prey. (Score: 0.1080)\n",
      "QUERY: A cheetah chases prey on across a field.\n",
      "A cheetah is running behind its prey. (Score: 0.8253)\n",
      "A man is eating food. (Score: 0.1399)\n",
      "A monkey is playing drums. (Score: 0.1292)\n",
      "A man is riding a white horse on an enclosed ground. (Score: 0.1097)\n",
      "A man is riding a horse. (Score: 0.0650)\n"
     ]
    }
   ],
   "source": [
    "queries = ['A man is eating pasta.', \n",
    "    'Someone in a gorilla costume is playing a set of drums.', \n",
    "    'A cheetah chases prey on across a field.']\n",
    "\n",
    "for query in queries:\n",
    "    query_embeddings = model.encode(query, convert_to_tensor=True).cpu()\n",
    "    ids, distances = index.knnQuery(query_embeddings, k=5)\n",
    "    print(f\"QUERY: {query}\")\n",
    "    for i, j in zip(ids, distances):\n",
    "        print(f\"{corpus[i]} (Score: {1-j:.4f})\")"
   ]
  },
  {
   "cell_type": "markdown",
   "metadata": {},
   "source": [
    "## Incrementally add some entries to the index and re-run query"
   ]
  },
  {
   "cell_type": "code",
   "execution_count": 16,
   "metadata": {},
   "outputs": [],
   "source": [
    "new_corpus_entries = [\n",
    "    \"A man is eating spaghetti\",\n",
    "    \"A monkey is playing timpani\"\n",
    "]\n",
    "incremental_embedding = model.encode(new_corpus_entries, convert_to_tensor=True)\n",
    "index.addDataPointBatch(incremental_embedding.cpu())\n",
    "index.createIndex({\"post\": 2})"
   ]
  },
  {
   "cell_type": "code",
   "execution_count": 17,
   "metadata": {},
   "outputs": [
    {
     "name": "stdout",
     "output_type": "stream",
     "text": [
      "QUERY: A man is eating pasta.\n",
      "A man is eating food. (Score: 0.8458)\n",
      "A man is eating a piece of bread. (Score: 0.1698)\n",
      "QUERY: Someone in a gorilla costume is playing a set of drums.\n",
      "A man is eating a piece of bread. (Score: 0.5022)\n",
      "A man is eating food. (Score: 0.0639)\n",
      "QUERY: A cheetah chases prey on across a field.\n",
      "A man is eating a piece of bread. (Score: 0.1537)\n",
      "A man is eating food. (Score: 0.0189)\n"
     ]
    }
   ],
   "source": [
    "queries = ['A man is eating pasta.', \n",
    "    'Someone in a gorilla costume is playing a set of drums.', \n",
    "    'A cheetah chases prey on across a field.']\n",
    "\n",
    "for query in queries:\n",
    "    query_embeddings = model.encode(query, convert_to_tensor=True).cpu()\n",
    "    ids, distances = index.knnQuery(query_embeddings, k=5)\n",
    "    print(f\"QUERY: {query}\")\n",
    "    for i, j in zip(ids, distances):\n",
    "        print(f\"{corpus[i]} (Score: {1-j:.4f})\")"
   ]
  }
 ],
 "metadata": {
  "interpreter": {
   "hash": "e7e19cc75063e8705b098a2770f8befea8a3406f4f1c6ee47560c8c2408ff7a7"
  },
  "kernelspec": {
   "display_name": "Python 3.9.7 64-bit ('jupyter': conda)",
   "language": "python",
   "name": "python3"
  },
  "language_info": {
   "codemirror_mode": {
    "name": "ipython",
    "version": 3
   },
   "file_extension": ".py",
   "mimetype": "text/x-python",
   "name": "python",
   "nbconvert_exporter": "python",
   "pygments_lexer": "ipython3",
   "version": "3.9.7"
  },
  "orig_nbformat": 4
 },
 "nbformat": 4,
 "nbformat_minor": 2
}
