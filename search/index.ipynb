{
 "cells": [
  {
   "cell_type": "markdown",
   "metadata": {},
   "source": [
    "# Experiments in using embeddinghub to index embeddings\n",
    "\n",
    "tl;dr nmslib does not currently support [incremental\n",
    "updates](https://github.com/nmslib/nmslib/issues/73) which makes it difficult\n",
    "to use for my scenarios. So I'm now investigating\n",
    "[embeddinghub](https://github.com/featureform/embeddinghub) instead"
   ]
  },
  {
   "cell_type": "code",
   "execution_count": 1,
   "metadata": {},
   "outputs": [],
   "source": [
    "import embeddinghub as eh\n",
    "\n",
    "from sentence_transformers import SentenceTransformer, util"
   ]
  },
  {
   "cell_type": "code",
   "execution_count": 2,
   "metadata": {},
   "outputs": [],
   "source": [
    "model = SentenceTransformer('all-MiniLM-L6-v2')\n",
    "corpus = ['A man is eating food.',\n",
    "          'A man is eating a piece of bread.',\n",
    "          'The girl is carrying a baby.',\n",
    "          'A man is riding a horse.',\n",
    "          'A woman is playing violin.',\n",
    "          'Two men pushed carts through the woods.',\n",
    "          'A man is riding a white horse on an enclosed ground.',\n",
    "          'A monkey is playing drums.',\n",
    "          'A cheetah is running behind its prey.'\n",
    "          ]\n",
    "embeddings = model.encode(corpus, convert_to_tensor=True).cpu()"
   ]
  },
  {
   "cell_type": "markdown",
   "metadata": {},
   "source": [
    "### Add embeddings to embeddinghub local instance"
   ]
  },
  {
   "cell_type": "code",
   "execution_count": 5,
   "metadata": {},
   "outputs": [],
   "source": [
    "hub = eh.connect(eh.Config(host=\"0.0.0.0\", port=7462))\n",
    "space = hub.create_space(\"kb\", 384)\n",
    "for i, doc in enumerate(corpus):\n",
    "    space.set(doc, embeddings[i].tolist())"
   ]
  },
  {
   "cell_type": "markdown",
   "metadata": {},
   "source": [
    "### Query embedding hub"
   ]
  },
  {
   "cell_type": "code",
   "execution_count": 10,
   "metadata": {},
   "outputs": [],
   "source": [
    "import embeddinghub as eh\n",
    "eh.embedding_store_pb2.Emb"
   ]
  },
  {
   "cell_type": "code",
   "execution_count": 16,
   "metadata": {},
   "outputs": [
    {
     "name": "stdout",
     "output_type": "stream",
     "text": [
      "QUERY: A man is eating pasta.\n",
      "A man is eating food.\n",
      "A man is eating a piece of bread.\n",
      "A man is riding a horse.\n",
      "A man is riding a white horse on an enclosed ground.\n",
      "A cheetah is running behind its prey.\n",
      "QUERY: Someone in a gorilla costume is playing a set of drums.\n",
      "A monkey is playing drums.\n",
      "A woman is playing violin.\n",
      "A man is riding a horse.\n",
      "A man is riding a white horse on an enclosed ground.\n",
      "A cheetah is running behind its prey.\n",
      "QUERY: A cheetah chases prey on across a field.\n",
      "A cheetah is running behind its prey.\n",
      "A man is eating food.\n",
      "A monkey is playing drums.\n",
      "A man is riding a white horse on an enclosed ground.\n",
      "A man is riding a horse.\n"
     ]
    }
   ],
   "source": [
    "queries = ['A man is eating pasta.', \n",
    "    'Someone in a gorilla costume is playing a set of drums.', \n",
    "    'A cheetah chases prey on across a field.']\n",
    "\n",
    "for query in queries:\n",
    "    query_embedding = model.encode(query, convert_to_tensor=True).cpu()\n",
    "    e = eh.embedding_store_pb2.Embedding()\n",
    "    e.values[:] = query_embedding.tolist()\n",
    "    results = space.nearest_neighbors(5, vector=e)\n",
    "    print(f\"QUERY: {query}\")\n",
    "    for result in results:\n",
    "        print(result)"
   ]
  },
  {
   "cell_type": "markdown",
   "metadata": {},
   "source": [
    "### Add new entries to corpus"
   ]
  },
  {
   "cell_type": "code",
   "execution_count": 17,
   "metadata": {},
   "outputs": [],
   "source": [
    "new_corpus_entries = [\n",
    "    \"A man is eating spaghetti\",\n",
    "    \"A monkey is playing timpani\"\n",
    "]\n",
    "corpus += new_corpus_entries\n",
    "incremental_embeddings = model.encode(new_corpus_entries, convert_to_tensor=True)\n",
    "for i, doc in enumerate(new_corpus_entries):\n",
    "    space.set(doc, incremental_embeddings[i].tolist())\n"
   ]
  },
  {
   "cell_type": "code",
   "execution_count": null,
   "metadata": {},
   "outputs": [],
   "source": [
    "# Query against new entries\n",
    "queries = ['A man is eating pasta.', \n",
    "    'Someone in a gorilla costume is playing a set of drums.', \n",
    "    'A cheetah chases prey on across a field.']\n",
    "\n",
    "for query in queries:\n",
    "    query_embedding = model.encode(query, convert_to_tensor=True).cpu()\n",
    "    e = eh.embedding_store_pb2.Embedding()\n",
    "    e.values[:] = query_embedding.tolist()\n",
    "    results = space.nearest_neighbors(5, vector=e)\n",
    "    print(f\"QUERY: {query}\")\n",
    "    for idx in results:\n",
    "        print(corpus[idx], f\"(Score: unknown for now)\")"
   ]
  }
 ],
 "metadata": {
  "interpreter": {
   "hash": "e7e19cc75063e8705b098a2770f8befea8a3406f4f1c6ee47560c8c2408ff7a7"
  },
  "kernelspec": {
   "display_name": "Python 3.9.7 64-bit ('jupyter': conda)",
   "language": "python",
   "name": "python3"
  },
  "language_info": {
   "codemirror_mode": {
    "name": "ipython",
    "version": 3
   },
   "file_extension": ".py",
   "mimetype": "text/x-python",
   "name": "python",
   "nbconvert_exporter": "python",
   "pygments_lexer": "ipython3",
   "version": "3.9.7"
  },
  "orig_nbformat": 4
 },
 "nbformat": 4,
 "nbformat_minor": 2
}
