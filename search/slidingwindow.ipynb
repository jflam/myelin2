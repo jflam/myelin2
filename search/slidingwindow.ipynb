{
 "cells": [
  {
   "cell_type": "markdown",
   "metadata": {},
   "source": [
    "# A sliding window algorithm for computing document embeddings\n",
    "\n",
    "Based on this\n",
    "[tutorial](https://colab.research.google.com/github/huggingface/notebooks/blob/master/examples/question_answering.ipynb#scrollTo=y_810-B5LzOo)\n",
    "for fine tuning models for the SQUAD (Stanford Question-Answer Dataset)"
   ]
  },
  {
   "cell_type": "code",
   "execution_count": 1,
   "metadata": {},
   "outputs": [
    {
     "data": {
      "application/vnd.jupyter.widget-view+json": {
       "model_id": "edf6db2b57784e8da7ac5da242114443",
       "version_major": 2,
       "version_minor": 0
      },
      "text/plain": [
       "VBox(children=(HTML(value='<center>\\n<img src=https://huggingface.co/front/assets/huggingface_logo-noborder.sv…"
      ]
     },
     "metadata": {},
     "output_type": "display_data"
    }
   ],
   "source": [
    "from huggingface_hub import notebook_login\n",
    "notebook_login()"
   ]
  },
  {
   "cell_type": "code",
   "execution_count": 21,
   "metadata": {},
   "outputs": [
    {
     "name": "stdout",
     "output_type": "stream",
     "text": [
      "4.15.0\n"
     ]
    }
   ],
   "source": [
    "import transformers\n",
    "from datasets import load_dataset, load_metric\n",
    "print(transformers.__version__)"
   ]
  },
  {
   "cell_type": "markdown",
   "metadata": {},
   "source": [
    "This is a long piece of text from this\n",
    "[resource](https://www.duskborn.com/posts/2021-aoc-zig/) that I extracted\n",
    "using the my readability browser extension. I'll be using this in this \n",
    "notebook to better understand how sliding windows work."
   ]
  },
  {
   "cell_type": "code",
   "execution_count": 27,
   "metadata": {},
   "outputs": [],
   "source": [
    "text = \"\"\"\n",
    "I’ve long thought that Zig was an interesting programming language,\n",
    "potentially more interesting than Rust in many respects given that Zig seems\n",
    "to be targetting a more modern C-like language replacement whereas Rust firmly\n",
    "looks like it is trying to take C++ out back like ol' yeller. Rust is\n",
    "powerful, but the language is complicated, and no I’m not talking about the\n",
    "borrow-checker (a completely genius idea) but the language itself is vast and\n",
    "complex. Try and read a moderately complex Rust crate and it can be mind\n",
    "boggling to work out what is going on.\n",
    "\n",
    "On the other hand Zig, with a strong ethos guided by Andrew Kelley, has this\n",
    "guiding light that there should be one way to do something in the language,\n",
    "and that is something that I really appreciate in language design.\n",
    "\n",
    "Last year I attempted to do Advent of Code 2020 in Zig, but the language was\n",
    "just a little too fresh for me to get into. The documentation was basically\n",
    "non-existent, and even getting the tools and working how to use them was too\n",
    "confusing for me. On day one I gave up and switched to Rust instead. This year\n",
    "though I was determined to try the whole challenge in Zig, and what a\n",
    "difference a year has made to the language! The community is now massive,\n",
    "there are GitHub templates for Advent of Code to just get you coding, and the\n",
    "Zig documentation is so rich and detailed that I could pick up some of the\n",
    "basic concepts quite quickly.\n",
    "\n",
    "So now that I’ve completed Advent of Code 2021, I thought I’d share the good\n",
    "and the bad about Zig, and some summary thoughts on the language.\n",
    "\n",
    "Note: I’m assuming a base level of understanding about what Zig is here, there\n",
    "are plenty of guides on the language available elsewhere!\n",
    "\n",
    "The Good⌗ The best thing about Zig is that the language is small. There isn’t\n",
    "even a foreach for like structure and Andrew has stated ‘While loops work, why\n",
    "add another way?' and I really appreciate this approach. It means I am not\n",
    "wondering about what tool to reach for when I want to do something, there is a\n",
    "single tool with a single use. Especially when learning a language (for myself\n",
    "and for anyone else that would want to pick it up) - brevity is key. I think\n",
    "Rust got lost in trying to nicely provide so much of what C++ badly provides\n",
    "that random users of the language looking at any arbitrary code written in\n",
    "Rust suffer for the sheer breadth of the language. Zig’s approach here meant I\n",
    "could read the standard library code and understand what it was doing (even\n",
    "with all the comptime type fun!).\n",
    "\n",
    "Nullability is fun in Zig - the fact that optionality is built into the\n",
    "language with the ? prefix on types (so ?i32 is maybe-a-32-bit-integer) and\n",
    "that they have combined this with pointers so that you can assume that any\n",
    "pointer (*i32 for instance) isn’t null. This is great for the compiler, great\n",
    "for the optimizer, and I think also great for the user.\n",
    "\n",
    "How things are brought in from the standard library or general foreign code is\n",
    "interesting:\n",
    "\n",
    "const std = @import(\"std\"); const print = std.debug.print; There is a builtin\n",
    "compiler marco @import that does the heavy lifting of pulling in the code, and\n",
    "then you assign this into a const some_var variable. This is really neat\n",
    "because you could call that whatever you wanted (to avoid naming conflicts).\n",
    "Also when you want to pull in definitions from within an imported package you\n",
    "just use the same mechanism of assigning the package.with.a.thing.in-it into a\n",
    "constant variable. Most other languages have a using foo::bar::haz::baz; type\n",
    "mechanism for this, but having it use the same mechanism for a bunch of\n",
    "different things means that you don’t have to switch in your head to another\n",
    "tool. I hadn’t considered this language concept before using Zig, and its a\n",
    "very good idea!\n",
    "\n",
    "The fact all containers take an allocator on intialization, and you can only\n",
    "get a heap pointer via an allocator is genius in Zig. Memory isn’t free, and\n",
    "allocations are not cheap, and so making getting at heap allocations harder by\n",
    "explicitly getting them through an allocator is a great thing.\n",
    "\n",
    "Also the error mechanism in Zig is wonderful. Zig has this special prefix for\n",
    "a type (for example !u32 means ‘an error or a u32') and you can cascade errors\n",
    "from deep in Zig code with the try statement. So var x = try foo(); means x is\n",
    "equal to the result of foo() unless there was an error in the result. If there\n",
    "was an error, return from the function with the error now. This meant that you\n",
    "don’t have the messy littering of if conditionals after every function that\n",
    "you typically get in C, but you also don’t have the complete disaster that is\n",
    "exceptions in C++/C#. Rust has a similar mechanism to this, but they use the\n",
    "clunkier Result<T, E>. While Zig has effectively added another thing for the\n",
    "frontend to handle by adding in a ! prefix on the types, the language is\n",
    "certainly nicer for it.\n",
    "\n",
    "The Bad⌗ There are a collection of things in Zig that I didn’t like. All\n",
    "languages have things that any random subset of users won’t like, so I am not\n",
    "saying Zig should change any of these or anything like that.\n",
    "\n",
    "Initializing arrays is weird in Zig. Lets say you want to have a 0 initialized\n",
    "array, you declare it like [_]u8{0} ** 4 which means I want an array, of type\n",
    "u8, that is initialized to 0 and is 4 elements long. You get used to the\n",
    "syntax, but it’s not intuitive.\n",
    "\n",
    "For loops are a bit strange too - you write for (items) |item| {}, which means\n",
    "you specify the container before the per-element variable. Mentally I think of\n",
    "for as for something in many_things {} and so in Zig I constantly had to write\n",
    "it wrong and then rewrite. Also you use the | character in Zig quite a lot,\n",
    "and while this may just be a problem with Apple UK keyboards, actually getting\n",
    "to the | character on my laptop was uncomfortable. When doing C/C++ or Rust,\n",
    "you use the | character much less and so the pain of writing the character was\n",
    "something I never noticed before. Jonathan Blow has gone on the record to say\n",
    "that with his language, Jai, he spent a lot of time working out how easy it\n",
    "would be to type common things, such that the more common an operation in the\n",
    "language, the easier it would be to type. That seems to be missing here (well\n",
    "at least for Apple UK keyboard layouts, I’d need to write Zig extensively on\n",
    "another layout to know whether this was a universal thing!).\n",
    "\n",
    "Switch statements where you want to have multiple arguments resolve to the\n",
    "same code I wrote as a | b, whereas in Zig it is a, b. Nothing major with\n",
    "this, but I constantly tripped up on this.\n",
    "\n",
    "Zig test was a bit clunky - you have to specify the file you want to test. So\n",
    "to test src/foo.zig, you’d do zig test src/foo.zig. I wanted something more\n",
    "like Rust’s cargo test that’d find all tests and run them. Maybe Zig does have\n",
    "this but I just didn’t find it?\n",
    "\n",
    "And how you declare functions is a little strange. Like a function in a struct\n",
    "would be:\n",
    "\n",
    "const foo = struct { pub fn bar() {}\n",
    "};\n",
    "Everything in Zig is const x = blah;, so why are functions not const bar =\n",
    "function() {};?\n",
    "\n",
    "The Ugly⌗ Zig is still a little raw in a few areas. Some compile errors are\n",
    "less than useful. For instance if you forgot to put !T on a return type, but\n",
    "were using try in the body of the function, the compiler error was very\n",
    "confusing. This is only really an issue for new Zig users (like I was when I\n",
    "first hit this), because you quickly learn that when the compiler spits out\n",
    "something less than useful and you are using try, check the return type first.\n",
    "Occassionally Zig would spit out 100’s of lines of notes after an error,\n",
    "giving me flashbacks to the C++ template mess errors you’d get.\n",
    "\n",
    "The builtin compiler macros (that start with @) are a bit confusing. Some of\n",
    "them have a leading uppercase, others a lowercase, and I never did work out\n",
    "any pattern to them. Is it @as or @As? I still couldn’t tell you without\n",
    "looking at the manual.\n",
    "\n",
    "The type system in Zig is loose in some ways and tight in others. If Zig can\n",
    "detect the type of the right hand side of a variable declaration, you don’t\n",
    "need an explicit type. But if you had something like var x = 0; you have to\n",
    "specify a type. It’d be nice for users (but obviously harder for the compiler\n",
    "team!) if the compiler would be able to deduce these types too.\n",
    "\n",
    "But the worst bit about Zig at present is the standard library documentation\n",
    "is broken and non-existent. This is probably the one reason I wouldn’t\n",
    "recommend Zig more generally at present, because I resorted to looking at the\n",
    "source files of the standard library on GitHub to work out what I could do\n",
    "with what provided stuff in the standard library. I know there is a plan that\n",
    "with the new compiler frontend (written in Zig!) to fix this, so its just a\n",
    "time problem.\n",
    "\n",
    "Conclusion⌗ Overall my gut feeling is that Zig is about ready for developing\n",
    "with for people like myself (coders that don’t mind a bit of pain to a lot of\n",
    "benefit), but it is not quite ready for more general usage. Fixing the\n",
    "standard library documentation would be my biggest priority if I worked on\n",
    "Zig, because I think that is the only thing holding back general usage of the\n",
    "toolchain.\n",
    "\n",
    "One nugget of knowledge I’ve worked out though - Zig is not a replacement for\n",
    "C. It is another replacement for C++. comptime which while amazingly powerful,\n",
    "already has echoes of the hard to reason about C++ template code or Rust\n",
    "generic mess, and there are still quite a few bits of syntatic sugar hiding\n",
    "the real cost of certain operations (like the try error handling, there is\n",
    "implicit branches everywhere when you use that).\n",
    "\n",
    "This isn’t to say Zig is any lesser by being a much better C++ replacement\n",
    "rather than a C replacement in my estimation, infact I’d argue that aslong as\n",
    "Zig doesn’t fall into Rust’s trap of constantly adding yet more ways to do the\n",
    "same damn thing and making the language that little bit harder for new people\n",
    "to onboard with, then Zig once it hits a stable language around 1.0 will be my\n",
    "recommended tool going forward.\n",
    "\n",
    "I really enjoyed doing Advent of Code in Zig, and I think I’ll be writing more\n",
    "software in Zig going forward. I’d highly recommend you check out the language\n",
    "and the community around the language are a great group of people that have\n",
    "been super helpful with my dumb onboarding questions.\"\"\""
   ]
  },
  {
   "cell_type": "code",
   "execution_count": 39,
   "metadata": {},
   "outputs": [],
   "source": [
    "from transformers import AutoTokenizer\n",
    "model_checkpoint = \"distilbert-base-uncased\"\n",
    "tokenizer = AutoTokenizer.from_pretrained(model_checkpoint)"
   ]
  },
  {
   "cell_type": "markdown",
   "metadata": {},
   "source": [
    "The tokenizer will map words to the index of an entry in the dictionary for the model. "
   ]
  },
  {
   "cell_type": "code",
   "execution_count": 36,
   "metadata": {},
   "outputs": [
    {
     "data": {
      "text/plain": [
       "{'input_ids': [101, 2182, 2003, 2019, 7953, 6251, 1012, 2023, 2003, 1037, 2117, 6251, 1012, 2023, 2003, 1037, 2353, 2028, 102], 'attention_mask': [1, 1, 1, 1, 1, 1, 1, 1, 1, 1, 1, 1, 1, 1, 1, 1, 1, 1, 1]}"
      ]
     },
     "execution_count": 36,
     "metadata": {},
     "output_type": "execute_result"
    }
   ],
   "source": [
    "encoded = tokenizer(\"Here is an input sentence. This is a second sentence. This is a third one\")\n",
    "encoded"
   ]
  },
  {
   "cell_type": "code",
   "execution_count": 37,
   "metadata": {},
   "outputs": [
    {
     "data": {
      "text/plain": [
       "'[CLS] here is an input sentence. this is a second sentence. this is a third one [SEP]'"
      ]
     },
     "execution_count": 37,
     "metadata": {},
     "output_type": "execute_result"
    }
   ],
   "source": [
    "tokenizer.decode(encoded[\"input_ids\"])"
   ]
  },
  {
   "cell_type": "code",
   "execution_count": 33,
   "metadata": {},
   "outputs": [
    {
     "data": {
      "text/plain": [
       "{'input_ids': [101, 2054, 2003, 2115, 2171, 1029, 102, 2026, 2171, 2003, 2198, 1012, 102], 'attention_mask': [1, 1, 1, 1, 1, 1, 1, 1, 1, 1, 1, 1, 1]}"
      ]
     },
     "execution_count": 33,
     "metadata": {},
     "output_type": "execute_result"
    }
   ],
   "source": [
    "tokenizer(\"What is your name?\", \"My name is John.\")"
   ]
  },
  {
   "cell_type": "markdown",
   "metadata": {},
   "source": [
    "What does the tokenizer do when it encounters words not in the model? It tries to break the word down into components, so it is not just a straight 1:1 mapping to words in the dictionary.\n",
    "\n",
    "TODO: link to documentation "
   ]
  },
  {
   "cell_type": "code",
   "execution_count": 34,
   "metadata": {},
   "outputs": [
    {
     "data": {
      "text/plain": [
       "{'input_ids': [101, 2054, 3084, 3435, 9932, 3435, 4886, 2003, 4658, 102], 'attention_mask': [1, 1, 1, 1, 1, 1, 1, 1, 1, 1]}"
      ]
     },
     "execution_count": 34,
     "metadata": {},
     "output_type": "execute_result"
    }
   ],
   "source": [
    "t = tokenizer(text=\"what makes fast ai fastai is cool\")\n",
    "t"
   ]
  },
  {
   "cell_type": "markdown",
   "metadata": {},
   "source": [
    "## Using the sliding window model with stride\n",
    "\n",
    "The next cell shows how to construct input features using a pre-determined\n",
    "stride (the maximum amount of overlap between inputs)"
   ]
  },
  {
   "cell_type": "code",
   "execution_count": 43,
   "metadata": {},
   "outputs": [
    {
     "name": "stdout",
     "output_type": "stream",
     "text": [
      "Number of overlapping chunks 9\n",
      "384\n",
      "384\n",
      "384\n",
      "384\n",
      "384\n",
      "384\n",
      "384\n",
      "384\n",
      "384\n"
     ]
    }
   ],
   "source": [
    "max_length = 384\n",
    "stride = 128\n",
    "\n",
    "tokens = tokenizer(\n",
    "        text=text, \n",
    "        max_length=max_length, \n",
    "        truncation=True, \n",
    "        padding=True,\n",
    "        return_overflowing_tokens=True, \n",
    "        stride=stride)\n",
    "print(f\"Number of overlapping chunks {len(tokens['input_ids'])}\")\n",
    "for input_id in tokens['input_ids']:\n",
    "        print(len(input_id))"
   ]
  },
  {
   "cell_type": "code",
   "execution_count": 12,
   "metadata": {},
   "outputs": [
    {
     "data": {
      "text/plain": [
       "True"
      ]
     },
     "execution_count": 12,
     "metadata": {},
     "output_type": "execute_result"
    }
   ],
   "source": [
    "# Is this a fast tokenizer (e.g., uses rust)\n",
    "isinstance(tokenizer, transformers.PreTrainedTokenizerFast)"
   ]
  }
 ],
 "metadata": {
  "interpreter": {
   "hash": "e7e19cc75063e8705b098a2770f8befea8a3406f4f1c6ee47560c8c2408ff7a7"
  },
  "kernelspec": {
   "display_name": "Python 3.9.7 64-bit ('jupyter': conda)",
   "language": "python",
   "name": "python3"
  },
  "language_info": {
   "codemirror_mode": {
    "name": "ipython",
    "version": 3
   },
   "file_extension": ".py",
   "mimetype": "text/x-python",
   "name": "python",
   "nbconvert_exporter": "python",
   "pygments_lexer": "ipython3",
   "version": "3.9.7"
  },
  "orig_nbformat": 4
 },
 "nbformat": 4,
 "nbformat_minor": 2
}
